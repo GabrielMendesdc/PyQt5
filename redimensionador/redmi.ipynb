{
 "cells": [
  {
   "cell_type": "code",
   "execution_count": 4,
   "id": "9f2fe86a",
   "metadata": {},
   "outputs": [
    {
     "data": {
      "text/html": [
       "<style>.container { width:90% !important; }</style>"
      ],
      "text/plain": [
       "<IPython.core.display.HTML object>"
      ]
     },
     "metadata": {},
     "output_type": "display_data"
    }
   ],
   "source": [
    "from IPython.core.display import display, HTML\n",
    "display(HTML(\"<style>.container { width:90% !important; }</style>\"))"
   ]
  },
  {
   "cell_type": "code",
   "execution_count": 8,
   "id": "fce7fa08",
   "metadata": {},
   "outputs": [],
   "source": [
    "from design_redm import *\n",
    "import sys\n",
    "from PyQt5.QtWidgets import QMainWindow, QApplication, QPushButton, QWidget, QGridLayout\n",
    "from PyQt5.QtWidgets import QLineEdit, QSizePolicy, QFileDialog\n",
    "from PyQt5.QtGui import QPixmap\n",
    "from PyQt5.QtCore import QCoreApplication\n",
    "\n",
    "\n",
    "class Redmi(QMainWindow, Ui_MainWindow):\n",
    "    def __init__(self, parent=None):\n",
    "        super().__init__(parent)\n",
    "        super().setupUi(self)\n",
    "        self.input.clicked.connect(self.abrir_imagem)\n",
    "        self.redmensionar.clicked.connect(self.redimensionar)\n",
    "        self.salvar.clicked.connect(self.salvar_img)\n",
    "\n",
    "    def abrir_imagem(self):\n",
    "        imagem, _ = QFileDialog.getOpenFileName(\n",
    "            self.centralwidget, \n",
    "            'Abrir Imagem', \n",
    "            r'C:\\Users\\pdv\\desktop'\n",
    "        )\n",
    "        self.input_path.setText(imagem)\n",
    "        self.original_img = QPixmap(imagem)\n",
    "        self.image.setPixmap(self.original_img)\n",
    "        self.input_largura.setText(str(self.original_img.width()))\n",
    "        self.input_altura.setText(str(self.original_img.height()))\n",
    "\n",
    "    def redimensionar(self):\n",
    "        largura = int(self.input_largura.text())\n",
    "        self.nova_img = self.original_img.scaledToWidth(largura)\n",
    "        self.image.setPixmap(self.nova_img)\n",
    "        self.input_largura.setText(str(self.nova_img.width()))\n",
    "        self.input_altura.setText(str(self.nova_img.height()))    \n",
    "        \n",
    "    def salvar_img(self):\n",
    "        imagem, _ = QFileDialog.getSaveFileName(\n",
    "            self.centralwidget, \n",
    "            'Salvar Imagem', \n",
    "            r'C:\\Users\\pdv\\desktop'\n",
    "        )    \n",
    "        self.nova_img.save(imagem, 'PNG')\n",
    "    \n",
    "if __name__ == '__main__':\n",
    "    qt = QCoreApplication.instance()\n",
    "    if qt is None:\n",
    "        qt = QApplication(sys.argv)\n",
    "    redmi = Redmi()\n",
    "    redmi.show()\n",
    "    qt.exec_()\n"
   ]
  },
  {
   "cell_type": "code",
   "execution_count": null,
   "id": "3c1316c3",
   "metadata": {},
   "outputs": [],
   "source": []
  }
 ],
 "metadata": {
  "kernelspec": {
   "display_name": "pyqt",
   "language": "python",
   "name": "pyqt"
  },
  "language_info": {
   "codemirror_mode": {
    "name": "ipython",
    "version": 3
   },
   "file_extension": ".py",
   "mimetype": "text/x-python",
   "name": "python",
   "nbconvert_exporter": "python",
   "pygments_lexer": "ipython3",
   "version": "3.8.12"
  }
 },
 "nbformat": 4,
 "nbformat_minor": 5
}
