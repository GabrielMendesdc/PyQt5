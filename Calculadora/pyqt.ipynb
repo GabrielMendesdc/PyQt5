{
 "cells": [
  {
   "cell_type": "code",
   "execution_count": 1,
   "id": "fd423d05",
   "metadata": {},
   "outputs": [
    {
     "data": {
      "text/html": [
       "<style>.container { width:90% !important; }</style>"
      ],
      "text/plain": [
       "<IPython.core.display.HTML object>"
      ]
     },
     "metadata": {},
     "output_type": "display_data"
    }
   ],
   "source": [
    "from IPython.core.display import display, HTML\n",
    "display(HTML(\"<style>.container { width:90% !important; }</style>\"))"
   ]
  },
  {
   "cell_type": "code",
   "execution_count": 85,
   "id": "fe69a49b",
   "metadata": {},
   "outputs": [],
   "source": [
    "import sys\n",
    "from PyQt5.QtWidgets import QMainWindow, QApplication, QPushButton, QWidget, QGridLayout\n",
    "from PyQt5.QtWidgets import QLineEdit, QSizePolicy\n",
    "from PyQt5.QtCore import QCoreApplication\n",
    "\n",
    "\n",
    "class Calculadora(QMainWindow):\n",
    "    def __init__(self, parent=None):\n",
    "        super().__init__(parent)\n",
    "        self.setWindowTitle('Calculadora do gbr')\n",
    "        self.setFixedSize(400,400)\n",
    "        self.cw = QWidget()\n",
    "        self.grid = QGridLayout(self.cw)\n",
    "        \n",
    "        self.display = QLineEdit()\n",
    "        self.grid.addWidget(self.display, 0, 0, 1, 5)\n",
    "        self.display.setDisabled(True)\n",
    "        self.display.setStyleSheet(\n",
    "            '* {background: white; color: black; font-weight: 900; font-size: 40px;}'\n",
    "        )\n",
    "        self.display.setSizePolicy(QSizePolicy.Preferred, QSizePolicy.Expanding)\n",
    "        \n",
    "        self.adiciona_botao(QPushButton('7'), 1, 0, 1, 1)\n",
    "        self.adiciona_botao(QPushButton('8'), 1, 1, 1, 1)\n",
    "        self.adiciona_botao(QPushButton('9'), 1, 2, 1, 1)\n",
    "        self.adiciona_botao(QPushButton('+'), 1, 3, 1, 1)\n",
    "        self.adiciona_botao(\n",
    "            QPushButton('C'), 1, 4, 1, 1,\n",
    "            lambda: self.display.setText(''),\n",
    "            'background: #FF00FF; color: black;font-weight: 700; font-size: 32px'\n",
    "        )\n",
    "        \n",
    "        self.adiciona_botao(QPushButton('4'), 2, 0, 1, 1)\n",
    "        self.adiciona_botao(QPushButton('5'), 2, 1, 1, 1)\n",
    "        self.adiciona_botao(QPushButton('6'), 2, 2, 1, 1)\n",
    "        self.adiciona_botao(QPushButton('-'), 2, 3, 1, 1)\n",
    "        self.adiciona_botao(\n",
    "            QPushButton('<-'), 2, 4, 1, 1,\n",
    "            lambda: self.display.setText(\n",
    "                self.display.text()[:-1]\n",
    "            ),\n",
    "                'background: #FF8C00; font-weight: 900; font-size: 32px'\n",
    "        )\n",
    "        \n",
    "        self.adiciona_botao(QPushButton('1'), 3, 0, 1, 1)\n",
    "        self.adiciona_botao(QPushButton('2'), 3, 1, 1, 1)\n",
    "        self.adiciona_botao(QPushButton('3'), 3, 2, 1, 1)\n",
    "        self.adiciona_botao(QPushButton('/'), 3, 3, 1, 1)\n",
    "#         self.adiciona_botao(QPushButton(''), 3, 4, 1, 1)\n",
    "        \n",
    "        self.adiciona_botao(QPushButton('.'), 4, 0, 1, 1)\n",
    "        self.adiciona_botao(QPushButton('0'), 4, 1, 1, 2)\n",
    "#         self.adiciona_botao(QPushButton(''), 4, 2, 1, 1)\n",
    "        self.adiciona_botao(QPushButton('*'), 4, 3, 1, 1)\n",
    "        self.adiciona_botao(\n",
    "            QPushButton('='), 3, 4, 2, 1,\n",
    "            self.eval_igual,\n",
    "            'background: #00FF00; font-weight: 900; font-size: 32px'\n",
    "        )\n",
    "        \n",
    "        self.setCentralWidget(self.cw)\n",
    "        \n",
    "    def adiciona_botao(self, botao, linha, coluna, linhaspas, colunaspan, funcao=None, style=None):\n",
    "        self.grid.addWidget(botao, linha, coluna, linhaspas, colunaspan)\n",
    "        if not funcao:\n",
    "            botao.clicked.connect(\n",
    "                lambda: self.display.setText(\n",
    "                    self.display.text() + botao.text()\n",
    "                )\n",
    "            )\n",
    "        else:\n",
    "            botao.clicked.connect(funcao)\n",
    "            \n",
    "        if style:\n",
    "            botao.setStyleSheet(style)\n",
    "        else:\n",
    "            botao.setStyleSheet(\n",
    "                'color: black; font-weight: 900; font-size: 32px'\n",
    "            )\n",
    "            \n",
    "        botao.setSizePolicy(QSizePolicy.Preferred, QSizePolicy.Expanding)\n",
    "        \n",
    "    def eval_igual(self):\n",
    "        try:\n",
    "            self.display.setText(\n",
    "                str(eval(self.display.text()))\n",
    "            )\n",
    "\n",
    "        except Exception as e:\n",
    "            self.display.setText('Conta Inválida.')\n",
    "        \n",
    "if __name__ == '__main__':\n",
    "    qt = QCoreApplication.instance()\n",
    "    if qt is None:\n",
    "        qt = QApplication(sys.argv)\n",
    "    calc = Calculadora()\n",
    "    calc.show()\n",
    "    qt.exec_()\n"
   ]
  },
  {
   "cell_type": "code",
   "execution_count": null,
   "id": "cf55014c",
   "metadata": {},
   "outputs": [],
   "source": []
  }
 ],
 "metadata": {
  "kernelspec": {
   "display_name": "pyqt",
   "language": "python",
   "name": "pyqt"
  },
  "language_info": {
   "codemirror_mode": {
    "name": "ipython",
    "version": 3
   },
   "file_extension": ".py",
   "mimetype": "text/x-python",
   "name": "python",
   "nbconvert_exporter": "python",
   "pygments_lexer": "ipython3",
   "version": "3.8.12"
  }
 },
 "nbformat": 4,
 "nbformat_minor": 5
}
